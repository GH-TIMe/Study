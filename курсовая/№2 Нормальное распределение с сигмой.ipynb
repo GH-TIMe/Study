{
 "cells": [
  {
   "cell_type": "code",
   "execution_count": 1,
   "metadata": {},
   "outputs": [],
   "source": [
    "import pandas as pd\n",
    "import scipy.stats as st\n",
    "from IPython.display import display, Math\n",
    "from scipy.stats import kstest\n",
    "import matplotlib.pyplot as plt\n",
    "import numpy as np\n",
    "import pylab \n",
    "import statsmodels.api as sm\n",
    "from ipywidgets import interact"
   ]
  },
  {
   "cell_type": "code",
   "execution_count": 2,
   "metadata": {
    "scrolled": false
   },
   "outputs": [
    {
     "data": {
      "application/vnd.jupyter.widget-view+json": {
       "model_id": "79b4453c73a14466a64cbd04bc5d8ccb",
       "version_major": 2,
       "version_minor": 0
      },
      "text/plain": [
       "interactive(children=(IntSlider(value=51, description='df', min=3), Output()), _dom_classes=('widget-interact'…"
      ]
     },
     "metadata": {},
     "output_type": "display_data"
    },
    {
     "data": {
      "text/plain": [
       "<function __main__.f(df)>"
      ]
     },
     "execution_count": 2,
     "metadata": {},
     "output_type": "execute_result"
    }
   ],
   "source": [
    "def qqplot(test1 , test2):\n",
    "    test1.sort()\n",
    "    quantile_levels1 = np.arange(len(test1),dtype=float)/len(test1)\n",
    "\n",
    "    test2.sort()\n",
    "    quantile_levels2 = np.arange(len(test2),dtype=float)/len(test2)\n",
    "\n",
    "    quantile_levels = quantile_levels2\n",
    "\n",
    "    quantiles2 = test2\n",
    "\n",
    "    quantiles1 = np.interp(quantile_levels,quantile_levels1,test1)\n",
    "\n",
    "    pylab.plot(quantiles1,quantiles2, '-')\n",
    "\n",
    "    maxval = max(test1[-1],test2[-1])\n",
    "    minval = min(test1[0],test2[0])\n",
    "    pylab.plot([minval,maxval],[minval,maxval],'-.')\n",
    "    pylab.show()\n",
    "  \n",
    "def f(df):\n",
    "    mu, sigma = 0, (df/(df - 2))**(0.5)\n",
    "    x = np.random.normal(mu, sigma, 10000)\n",
    "    x = sorted(x)\n",
    "    x = [(x[i] - mu)/sigma for i in range(len(x))]\n",
    "    plt.plot(x, st.norm.pdf(x, mu, sigma), 'r', alpha = 0.6, label = r'$N(0, \\sigma_y)$')\n",
    "    plt.plot(x, st.t.pdf(x, df), 'b', alpha = 0.6, label = 'DF = ' + str(df))\n",
    "    plt.xlim(-3, 3)\n",
    "    plt.ylim(0, 0.4)\n",
    "    plt.legend(loc='upper right')\n",
    "    plt.title(r'$\\sigma_y = \\sqrt{v/(v-2)}$')\n",
    "    plt.grid()\n",
    "    plt.show()\n",
    "    test1 = st.norm.pdf(x, mu, sigma)\n",
    "    test2 = st.t.pdf(x, df)\n",
    "    qqplot(test1, test2)\n",
    "    x = np.random.normal(0, 1, 10000)\n",
    "    x = sorted(x)\n",
    "    plt.plot(x, st.norm.pdf(x, 0, 1), 'r', alpha = 0.6, label = r'$N(0, 1)$')\n",
    "    plt.plot(x, st.t.pdf(x, df), 'b', alpha = 0.6, label = 'DF = ' + str(df))\n",
    "    plt.xlim(-3, 3)\n",
    "    plt.ylim(0, 0.42)\n",
    "    plt.legend(loc='upper right')\n",
    "    plt.title(r'$\\sigma_y = 1$')\n",
    "    plt.grid()\n",
    "    plt.show()\n",
    "    test1 = st.norm.pdf(x)\n",
    "    test2 = st.t.pdf(x, df)\n",
    "    qqplot(test1, test2)\n",
    "  \n",
    "interact(f, df=(3,100))"
   ]
  }
 ],
 "metadata": {
  "kernelspec": {
   "display_name": "Python 3",
   "language": "python",
   "name": "python3"
  },
  "language_info": {
   "codemirror_mode": {
    "name": "ipython",
    "version": 3
   },
   "file_extension": ".py",
   "mimetype": "text/x-python",
   "name": "python",
   "nbconvert_exporter": "python",
   "pygments_lexer": "ipython3",
   "version": "3.7.1"
  }
 },
 "nbformat": 4,
 "nbformat_minor": 2
}
