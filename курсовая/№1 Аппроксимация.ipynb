{
 "cells": [
  {
   "cell_type": "code",
   "execution_count": 1,
   "metadata": {},
   "outputs": [],
   "source": [
    "# библиотеки\n",
    "import pandas as pd\n",
    "import scipy.stats as st\n",
    "from IPython.display import display, Math\n",
    "from scipy.stats import kstest\n",
    "import matplotlib.pyplot as plt\n",
    "import numpy as np\n",
    "import seaborn as sns\n",
    "from ipywidgets import interact\n",
    "sns.set()"
   ]
  },
  {
   "cell_type": "code",
   "execution_count": 2,
   "metadata": {},
   "outputs": [
    {
     "data": {
      "application/vnd.jupyter.widget-view+json": {
       "model_id": "49ae252f516f44c2ade0b52f821ba0c1",
       "version_major": 2,
       "version_minor": 0
      },
      "text/plain": [
       "interactive(children=(IntSlider(value=50, description='df', min=1), Output()), _dom_classes=('widget-interact'…"
      ]
     },
     "metadata": {},
     "output_type": "display_data"
    },
    {
     "data": {
      "text/plain": [
       "<function __main__.App(df)>"
      ]
     },
     "execution_count": 2,
     "metadata": {},
     "output_type": "execute_result"
    }
   ],
   "source": [
    "def App(df):\n",
    "    # задаём данные для двух законов\n",
    "    x = np.linspace(-8, 8, 200)\n",
    "    # строим график\n",
    "    plt.plot(x, st.norm.pdf(x, 0, 1), 'r', alpha = 0.6, label = r'N(0, 1)')\n",
    "    plt.plot(x ,st.t.pdf(x, df), 'black', alpha = 0.6, label = 't DF =' + str(df))\n",
    "    plt.xlabel('Статистика')\n",
    "    plt.ylabel('Плотность')\n",
    "    plt.legend(loc='upper right')\n",
    "    plt.title('t распределение с n степенью свободы')\n",
    "    plt.savefig('App' + str(df) + '.png')\n",
    "    plt.show()\n",
    "    \n",
    "interact(App, df=(1, 100))"
   ]
  }
 ],
 "metadata": {
  "kernelspec": {
   "display_name": "Python 3",
   "language": "python",
   "name": "python3"
  },
  "language_info": {
   "codemirror_mode": {
    "name": "ipython",
    "version": 3
   },
   "file_extension": ".py",
   "mimetype": "text/x-python",
   "name": "python",
   "nbconvert_exporter": "python",
   "pygments_lexer": "ipython3",
   "version": "3.7.1"
  }
 },
 "nbformat": 4,
 "nbformat_minor": 2
}
