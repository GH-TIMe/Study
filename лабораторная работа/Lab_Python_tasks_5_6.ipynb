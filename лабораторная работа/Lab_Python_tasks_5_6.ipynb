{
 "cells": [
  {
   "cell_type": "markdown",
   "metadata": {},
   "source": [
    "## Задание 5\n",
    "Таблица интервальных частот дневной логарифмической доходности первой (для данного варианта) компании за последний полный календарный год. Здесь и далее дневная логарифмическая доходность рассчитывается на основе поля «CLOSE» с коэффициентом 100."
   ]
  },
  {
   "cell_type": "code",
   "execution_count": 38,
   "metadata": {},
   "outputs": [],
   "source": [
    "# время выполнения 0.297988 s\n",
    "import IPython\n",
    "import os\n",
    "import pandas as pd\n",
    "import matplotlib.pyplot as plt\n",
    "import numpy as np\n",
    "from datetime import datetime\n",
    "import scipy.stats as st\n",
    "from math import floor"
   ]
  },
  {
   "cell_type": "code",
   "execution_count": 39,
   "metadata": {},
   "outputs": [
    {
     "data": {
      "application/javascript": [
       "var k = IPython.notebook.kernel;\n",
       "k.execute('this_nb_name_ext = \"' + IPython.notebook.notebook_name + '\"');\n"
      ],
      "text/plain": [
       "<IPython.core.display.Javascript object>"
      ]
     },
     "metadata": {},
     "output_type": "display_data"
    }
   ],
   "source": [
    "%%javascript\n",
    "var k = IPython.notebook.kernel;\n",
    "k.execute('this_nb_name_ext = \"' + IPython.notebook.notebook_name + '\"');"
   ]
  },
  {
   "cell_type": "code",
   "execution_count": 40,
   "metadata": {},
   "outputs": [],
   "source": [
    "# некоторые вспомогательные функии\n",
    "def thisfname(): #Имя этого блокнота\n",
    "    this_notebook_name = os.path.splitext(this_nb_name_ext)[0]\n",
    "    return this_notebook_name\n",
    "\n",
    "# читает файл AKRN.txt\n",
    "def read_AKRN(file, year):\n",
    "    csvtab = pd.read_csv(file, sep=',', engine='python') # чтение файла\n",
    "    df = pd.DataFrame()\n",
    "    df['date'] = pd.to_datetime(csvtab['<DATE>'], format='%Y%m%d')\n",
    "    df['CLOSE_AKRN'] = csvtab['<CLOSE>']\n",
    "    df = df[(df['date']>=datetime(year, 1, 1)) & (df['date']<datetime(year + 1, 1, 1))]\n",
    "    df.set_index('date', inplace = True)\n",
    "    return df\n",
    "\n",
    "# расчитывается квантиль\n",
    "def norm_quantile(newtab, level):\n",
    "    newtab = np.sort(newtab)\n",
    "    if (newtab.shape[0] * level) % 1 != 0:\n",
    "        return newtab[int(floor(newtab.shape[0] * level))]\n",
    "    elif (newtab.shape[0] * level) % 1 == 0:\n",
    "        return (newtab[int(floor(newtab.shape[0] * level)) - 1] + newtab[int(floor(newtab.shape[0] * level))]) / 2\n",
    "    \n",
    "# преобразлвание в latex таблицу\n",
    "def _repr_latex_(self):\n",
    "    return self.to_latex()\n",
    "\n",
    "pd.set_option('display.notebook_repr_html', True)\n",
    "pd.DataFrame._repr_latex_ = _repr_latex_  # monkey patch pandas DataFrame"
   ]
  },
  {
   "cell_type": "code",
   "execution_count": 41,
   "metadata": {},
   "outputs": [],
   "source": [
    "# 5\n",
    "tickers = ['AKRN', 'APTK', 'CHMK', 'LKOH', 'SBER'] # Тикеры\n",
    "myDataPath = 'C:/Users/timha/OneDrive/Рабочий стол/лаба/' # путь к файлам\n",
    "year = 2018 # последний полный год"
   ]
  },
  {
   "cell_type": "code",
   "execution_count": 42,
   "metadata": {
    "scrolled": false
   },
   "outputs": [
    {
     "data": {
      "text/html": [
       "<div>\n",
       "<style scoped>\n",
       "    .dataframe tbody tr th:only-of-type {\n",
       "        vertical-align: middle;\n",
       "    }\n",
       "\n",
       "    .dataframe tbody tr th {\n",
       "        vertical-align: top;\n",
       "    }\n",
       "\n",
       "    .dataframe thead th {\n",
       "        text-align: right;\n",
       "    }\n",
       "</style>\n",
       "<table border=\"1\" class=\"dataframe\">\n",
       "  <thead>\n",
       "    <tr style=\"text-align: right;\">\n",
       "      <th></th>\n",
       "      <th>lo</th>\n",
       "      <th>hi</th>\n",
       "      <th>fr</th>\n",
       "    </tr>\n",
       "  </thead>\n",
       "  <tbody>\n",
       "    <tr>\n",
       "      <th>0</th>\n",
       "      <td>-8</td>\n",
       "      <td>-7</td>\n",
       "      <td>0.0</td>\n",
       "    </tr>\n",
       "    <tr>\n",
       "      <th>1</th>\n",
       "      <td>-7</td>\n",
       "      <td>-6</td>\n",
       "      <td>0.0</td>\n",
       "    </tr>\n",
       "    <tr>\n",
       "      <th>2</th>\n",
       "      <td>-6</td>\n",
       "      <td>-5</td>\n",
       "      <td>0.0</td>\n",
       "    </tr>\n",
       "    <tr>\n",
       "      <th>3</th>\n",
       "      <td>-5</td>\n",
       "      <td>-4</td>\n",
       "      <td>0.0</td>\n",
       "    </tr>\n",
       "    <tr>\n",
       "      <th>4</th>\n",
       "      <td>-4</td>\n",
       "      <td>-3</td>\n",
       "      <td>2.0</td>\n",
       "    </tr>\n",
       "    <tr>\n",
       "      <th>5</th>\n",
       "      <td>-3</td>\n",
       "      <td>-2</td>\n",
       "      <td>4.0</td>\n",
       "    </tr>\n",
       "    <tr>\n",
       "      <th>6</th>\n",
       "      <td>-2</td>\n",
       "      <td>-1</td>\n",
       "      <td>11.0</td>\n",
       "    </tr>\n",
       "    <tr>\n",
       "      <th>7</th>\n",
       "      <td>-1</td>\n",
       "      <td>0</td>\n",
       "      <td>93.0</td>\n",
       "    </tr>\n",
       "    <tr>\n",
       "      <th>8</th>\n",
       "      <td>0</td>\n",
       "      <td>1</td>\n",
       "      <td>115.0</td>\n",
       "    </tr>\n",
       "    <tr>\n",
       "      <th>9</th>\n",
       "      <td>1</td>\n",
       "      <td>2</td>\n",
       "      <td>23.0</td>\n",
       "    </tr>\n",
       "    <tr>\n",
       "      <th>10</th>\n",
       "      <td>2</td>\n",
       "      <td>3</td>\n",
       "      <td>3.0</td>\n",
       "    </tr>\n",
       "    <tr>\n",
       "      <th>11</th>\n",
       "      <td>3</td>\n",
       "      <td>4</td>\n",
       "      <td>2.0</td>\n",
       "    </tr>\n",
       "    <tr>\n",
       "      <th>12</th>\n",
       "      <td>4</td>\n",
       "      <td>5</td>\n",
       "      <td>0.0</td>\n",
       "    </tr>\n",
       "    <tr>\n",
       "      <th>13</th>\n",
       "      <td>5</td>\n",
       "      <td>6</td>\n",
       "      <td>0.0</td>\n",
       "    </tr>\n",
       "    <tr>\n",
       "      <th>14</th>\n",
       "      <td>6</td>\n",
       "      <td>7</td>\n",
       "      <td>0.0</td>\n",
       "    </tr>\n",
       "    <tr>\n",
       "      <th>15</th>\n",
       "      <td>7</td>\n",
       "      <td>8</td>\n",
       "      <td>0.0</td>\n",
       "    </tr>\n",
       "  </tbody>\n",
       "</table>\n",
       "</div>"
      ],
      "text/latex": [
       "\\begin{tabular}{lrrr}\n",
       "\\toprule\n",
       "{} &  lo &  hi &     fr \\\\\n",
       "\\midrule\n",
       "0  &  -8 &  -7 &    0.0 \\\\\n",
       "1  &  -7 &  -6 &    0.0 \\\\\n",
       "2  &  -6 &  -5 &    0.0 \\\\\n",
       "3  &  -5 &  -4 &    0.0 \\\\\n",
       "4  &  -4 &  -3 &    2.0 \\\\\n",
       "5  &  -3 &  -2 &    4.0 \\\\\n",
       "6  &  -2 &  -1 &   11.0 \\\\\n",
       "7  &  -1 &   0 &   93.0 \\\\\n",
       "8  &   0 &   1 &  115.0 \\\\\n",
       "9  &   1 &   2 &   23.0 \\\\\n",
       "10 &   2 &   3 &    3.0 \\\\\n",
       "11 &   3 &   4 &    2.0 \\\\\n",
       "12 &   4 &   5 &    0.0 \\\\\n",
       "13 &   5 &   6 &    0.0 \\\\\n",
       "14 &   6 &   7 &    0.0 \\\\\n",
       "15 &   7 &   8 &    0.0 \\\\\n",
       "\\bottomrule\n",
       "\\end{tabular}\n"
      ],
      "text/plain": [
       "    lo  hi     fr\n",
       "0   -8  -7    0.0\n",
       "1   -7  -6    0.0\n",
       "2   -6  -5    0.0\n",
       "3   -5  -4    0.0\n",
       "4   -4  -3    2.0\n",
       "5   -3  -2    4.0\n",
       "6   -2  -1   11.0\n",
       "7   -1   0   93.0\n",
       "8    0   1  115.0\n",
       "9    1   2   23.0\n",
       "10   2   3    3.0\n",
       "11   3   4    2.0\n",
       "12   4   5    0.0\n",
       "13   5   6    0.0\n",
       "14   6   7    0.0\n",
       "15   7   8    0.0"
      ]
     },
     "execution_count": 42,
     "metadata": {},
     "output_type": "execute_result"
    }
   ],
   "source": [
    "newtab = read_AKRN(myDataPath + tickers[0] + '.txt', year) # чтение файла\n",
    "newtab = 100*np.log(newtab.divide(newtab.shift(+1))) # логарифмическая доходность за 2018 год\n",
    "newtab = newtab.dropna() # удаление NaN \n",
    "newtab['prob'] = 1/newtab.shape[0]\n",
    "# таблица частот\n",
    "low = int(round(norm_quantile(newtab['CLOSE_AKRN'], 0.01)) - 5)\n",
    "hight = int(round(norm_quantile(newtab['CLOSE_AKRN'], 0.99)) + 5) \n",
    "interval = np.arange(low, hight + 1, 1)\n",
    "interval[0] -= 1 # для включения нижней границы\n",
    "interval[len(interval) - 1] += 1\n",
    "# интрервал в одном случае попал в другом нет\n",
    "new_1 = np.array(pd.cut(newtab['CLOSE_AKRN'], interval, right = False).value_counts(sort = False))\n",
    "new_2 = np.array(pd.cut(newtab['CLOSE_AKRN'], interval, right = True).value_counts(sort = False))\n",
    "new_3 = (new_1 + new_2)/2\n",
    "final = pd.DataFrame()\n",
    "# таблица частот готова\n",
    "final['lo'], final['hi'], final['fr'] = np.arange(low, hight, 1), np.arange(low + 1, hight + 1, 1), new_3\n",
    "final"
   ]
  },
  {
   "cell_type": "code",
   "execution_count": 43,
   "metadata": {},
   "outputs": [],
   "source": [
    "final.to_csv(thisfname() + \".Объем торгов в миллиардах.csv\", index=False, decimal=',', sep=';', encoding='utf-8-sig')"
   ]
  },
  {
   "cell_type": "markdown",
   "metadata": {},
   "source": [
    "## Задание 6\n",
    "Гистограмма частот (не плотности частот!), соответствующая таблице частот из предыдущего пункта, и график плотности нормального распределения в подходящих единицах измерения (на одном рисунке)."
   ]
  },
  {
   "cell_type": "code",
   "execution_count": 44,
   "metadata": {
    "scrolled": true
   },
   "outputs": [
    {
     "data": {
      "image/png": "[encoded data removed]",
      "text/plain": [
       "<Figure size 432x288 with 1 Axes>"
      ]
     },
     "metadata": {
      "needs_background": "light"
     },
     "output_type": "display_data"
    }
   ],
   "source": [
    "# 6\n",
    "div2 = (final['lo'] + final['hi'])/2\n",
    "n = final['fr'].sum()\n",
    "prob = final['fr']/n\n",
    "dlaw = pd.DataFrame()\n",
    "dlaw['val'], dlaw['prob'] = div2, prob # дискретное распределение\n",
    "mu = (dlaw['val']*dlaw['prob']).sum() # мат. ожидание\n",
    "var = [(((dlaw['val']**2)*dlaw['prob']).sum() - mu**2)**(0.5)] # дисперсия\n",
    "# нормальное распределение\n",
    "plt.plot(np.linspace(low, hight, 100), st.norm.pdf(np.linspace(low, hight, 100), mu, var)*n , 'r', alpha = 0.8)\n",
    "# гистограмма\n",
    "x = np.arange(low + 0.5, hight + 0.5, 1)\n",
    "y = final['fr'].values.tolist()\n",
    "plt.bar(x, y, color = 'green', alpha = 0.6, edgecolor='black', linewidth = 1.2)\n",
    "plt.suptitle('Гистограмма частот')\n",
    "plt.grid(linestyle='--', linewidth=0.5)\n",
    "plt.show()"
   ]
  }
 ],
 "metadata": {
  "kernelspec": {
   "display_name": "Python 3",
   "language": "python",
   "name": "python3"
  },
  "language_info": {
   "codemirror_mode": {
    "name": "ipython",
    "version": 3
   },
   "file_extension": ".py",
   "mimetype": "text/x-python",
   "name": "python",
   "nbconvert_exporter": "python",
   "pygments_lexer": "ipython3",
   "version": "3.7.1"
  }
 },
 "nbformat": 4,
 "nbformat_minor": 2
}
