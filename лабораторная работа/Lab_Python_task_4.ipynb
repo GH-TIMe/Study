{
 "cells": [
  {
   "cell_type": "markdown",
   "metadata": {},
   "source": [
    "# Задание 4\n",
    "\n",
    "Эмпирическая корреляционная 5х5 матрица дневных логарифмических доходностей всех компаний варианта за весь период (коэффициенты корреляции округляются до 0,001). Период может быть сужен при отсутствии данных."
   ]
  },
  {
   "cell_type": "code",
   "execution_count": 13,
   "metadata": {},
   "outputs": [],
   "source": [
    "import IPython\n",
    "import os\n",
    "import pandas as pd\n",
    "import matplotlib.pyplot as plt\n",
    "import numpy as np\n",
    "from datetime import datetime\n",
    "import seaborn as sns"
   ]
  },
  {
   "cell_type": "code",
   "execution_count": 14,
   "metadata": {},
   "outputs": [
    {
     "data": {
      "application/javascript": [
       "var k = IPython.notebook.kernel;\n",
       "k.execute('this_nb_name_ext = \"' + IPython.notebook.notebook_name + '\"');\n"
      ],
      "text/plain": [
       "<IPython.core.display.Javascript object>"
      ]
     },
     "metadata": {},
     "output_type": "display_data"
    }
   ],
   "source": [
    "%%javascript\n",
    "var k = IPython.notebook.kernel;\n",
    "k.execute('this_nb_name_ext = \"' + IPython.notebook.notebook_name + '\"');"
   ]
  },
  {
   "cell_type": "code",
   "execution_count": 15,
   "metadata": {},
   "outputs": [],
   "source": [
    "def thisfname(): #Имя этого блокнота\n",
    "    this_notebook_name = os.path.splitext(this_nb_name_ext)[0]\n",
    "    return this_notebook_name"
   ]
  },
  {
   "cell_type": "code",
   "execution_count": 16,
   "metadata": {
    "scrolled": true
   },
   "outputs": [],
   "source": [
    "tickers = ['AKRN', 'APTK', 'CHMK', 'LKOH', 'SBER'] # Тикеры\n",
    "myDataPath = 'C:/Users/timha/OneDrive/Рабочий стол/лаба/' # путь к файлам"
   ]
  },
  {
   "cell_type": "code",
   "execution_count": 17,
   "metadata": {
    "scrolled": false
   },
   "outputs": [
    {
     "data": {
      "image/png": "[encoded data removed]",
      "text/plain": [
       "<Figure size 432x288 with 2 Axes>"
      ]
     },
     "metadata": {
      "needs_background": "light"
     },
     "output_type": "display_data"
    }
   ],
   "source": [
    "# чтение и преобразование файла\n",
    "def read_exp(file, ticker):\n",
    "    df = pd.DataFrame()\n",
    "    csvtab = pd.read_csv(file, sep = ',' , engine='python') # чтение файла\n",
    "    df['DATA_' + ticker] = pd.to_datetime(csvtab['<DATE>'], format='%Y%m%d')\n",
    "    df['CLOSE_' + ticker] = csvtab['<CLOSE>']\n",
    "    df.set_index('DATA_' + ticker, inplace = True)\n",
    "    return df\n",
    "\n",
    "# красивый вывод ковариационной матрицы\n",
    "def pretty_corr(newtab):\n",
    "    mask = np.zeros_like(newtab)\n",
    "#     print(np.triu_indices_from(mask))\n",
    "    mask[np.triu_indices_from(mask, +1)] = True\n",
    "    cmap = sns.diverging_palette(255, 133, center=\"dark\", as_cmap = True)\n",
    "    ax = sns.heatmap(\n",
    "        newtab, \n",
    "        vmin=0, vmax=1, \n",
    "        annot=True, \n",
    "        mask = mask,\n",
    "        cmap = cmap,\n",
    "        square=True,\n",
    "        linewidths=.5, \n",
    "        cbar_kws={\"shrink\": .8}\n",
    "    )\n",
    "    ax\n",
    "    plt.title('Эмпирическая корреляционная матрица')\n",
    "    plt.show()\n",
    "\n",
    "# чтение файлов\n",
    "df_AKRN = df_APTK = df_CHMK = df_LKOH = df_SBER = pd.DataFrame()\n",
    "list_of_data = [df_AKRN, df_APTK, df_CHMK, df_LKOH, df_SBER]\n",
    "# преобразуем для concat\n",
    "for i in range(len(list_of_data)):\n",
    "    list_of_data[i] = read_exp(myDataPath + tickers[i] + '.txt', tickers[i])\n",
    "# соединяем все таблицы в одну\n",
    "newtab = pd.concat(list_of_data, join='inner', axis = 1) # таблица не содержащая пропусков\n",
    "newtab = np.log(newtab.divide(newtab.shift(+1))) # логарифмическая доходность\n",
    "newtab = newtab.dropna() # удаление NaN\n",
    "newtab = round(newtab.corr(method='pearson'), 3) # коэффициент корреляции с округлением\n",
    "pretty_corr(newtab)"
   ]
  },
  {
   "cell_type": "code",
   "execution_count": 18,
   "metadata": {},
   "outputs": [],
   "source": [
    "newtab.to_csv(thisfname() + \".Эмпирическая Корр Матр ЛД.csv\", index=False, decimal=',', sep=';', encoding='utf-8-sig')"
   ]
  }
 ],
 "metadata": {
  "kernelspec": {
   "display_name": "Python 3",
   "language": "python",
   "name": "python3"
  },
  "language_info": {
   "codemirror_mode": {
    "name": "ipython",
    "version": 3
   },
   "file_extension": ".py",
   "mimetype": "text/x-python",
   "name": "python",
   "nbconvert_exporter": "python",
   "pygments_lexer": "ipython3",
   "version": "3.7.1"
  }
 },
 "nbformat": 4,
 "nbformat_minor": 2
}
