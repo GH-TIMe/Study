{
 "cells": [
  {
   "cell_type": "markdown",
   "metadata": {},
   "source": [
    "### Задание 2\n",
    "\n",
    "Таблица годовых стоимостных объемов торгов по компаниям варианта за весь период. Объем торгов рассчитывается в миллиардах с округлением до 0,1. Необходимо указать единицу измерения объема."
   ]
  },
  {
   "cell_type": "code",
   "execution_count": 15,
   "metadata": {},
   "outputs": [],
   "source": [
    "# время выполнения 4.18433 s\n",
    "import IPython\n",
    "import os\n",
    "import pandas as pd\n",
    "from datetime import datetime\n",
    "import random\n",
    "import imgkit"
   ]
  },
  {
   "cell_type": "code",
   "execution_count": 16,
   "metadata": {},
   "outputs": [
    {
     "data": {
      "application/javascript": [
       "var k = IPython.notebook.kernel;\n",
       "k.execute('this_nb_name_ext = \"' + IPython.notebook.notebook_name + '\"');\n"
      ],
      "text/plain": [
       "<IPython.core.display.Javascript object>"
      ]
     },
     "metadata": {},
     "output_type": "display_data"
    }
   ],
   "source": [
    "%%javascript\n",
    "var k = IPython.notebook.kernel;\n",
    "k.execute('this_nb_name_ext = \"' + IPython.notebook.notebook_name + '\"');"
   ]
  },
  {
   "cell_type": "code",
   "execution_count": 17,
   "metadata": {},
   "outputs": [],
   "source": [
    "def thisfname(): #Имя этого блокнота\n",
    "    this_notebook_name = os.path.splitext(this_nb_name_ext)[0]\n",
    "    return this_notebook_name\n",
    "\n",
    "# преобразлвание в latex таблицу\n",
    "def _repr_latex_(self):\n",
    "    return r'\\scalebox{0.7}{\\small\\tabcolsep=0.11cm\\centering{%s}}' % self.to_latex()\n",
    "\n",
    "pd.set_option('display.notebook_repr_html', True)\n",
    "pd.DataFrame._repr_latex_ = _repr_latex_  # monkey patch pandas DataFrame"
   ]
  },
  {
   "cell_type": "code",
   "execution_count": 18,
   "metadata": {},
   "outputs": [],
   "source": [
    "#<TICKER>,<PER>,<DATE>,<TIME>,<OPEN>,<HIGH>,<LOW>,<CLOSE>,<VOL>\n",
    "def yrvol(year,file,unit): \n",
    "    csvtab = pd.read_csv(file, sep = ',', engine='python') # чтение файла и преобразование даты\n",
    "    df = pd.DataFrame()\n",
    "    df['date'] = pd.to_datetime(csvtab['<DATE>'], format='%Y%m%d') # преобразование '<DATE>' к datetime\n",
    "    df['close']= csvtab['<CLOSE>'] # столбец df.close = csvtab.<CLOSE>\n",
    "    df['vol'] = csvtab['<VOL>'] # столбец df.vol = csvtab.<VOL>\n",
    "    df['rvol'] = df['close']*df['vol'] # df.close * df.vol\n",
    "    condition = (df['date']>=datetime(year, 1, 1)) & (df['date']<datetime(year + 1, 1, 1)) # проверка на дату\n",
    "    return sum(df['rvol'][condition])/unit # вернуть df.loc[df.close * df.vol][проверка на дату]"
   ]
  },
  {
   "cell_type": "code",
   "execution_count": 19,
   "metadata": {},
   "outputs": [],
   "source": [
    "tickers = ['AKRN', 'APTK', 'CHMK', 'LKOH', 'SBER'] # Тикеры\n",
    "myDataPath = 'C:/Users/timha/OneDrive/Рабочий стол/лаба/' # путь к файлам\n",
    "years = range(2000, 2019) # дата"
   ]
  },
  {
   "cell_type": "code",
   "execution_count": 20,
   "metadata": {},
   "outputs": [
    {
     "data": {
      "text/html": [
       "<div>\n",
       "<style scoped>\n",
       "    .dataframe tbody tr th:only-of-type {\n",
       "        vertical-align: middle;\n",
       "    }\n",
       "\n",
       "    .dataframe tbody tr th {\n",
       "        vertical-align: top;\n",
       "    }\n",
       "\n",
       "    .dataframe thead th {\n",
       "        text-align: right;\n",
       "    }\n",
       "</style>\n",
       "<table border=\"1\" class=\"dataframe\">\n",
       "  <thead>\n",
       "    <tr style=\"text-align: right;\">\n",
       "      <th></th>\n",
       "      <th>2000</th>\n",
       "      <th>2001</th>\n",
       "      <th>2002</th>\n",
       "      <th>2003</th>\n",
       "      <th>2004</th>\n",
       "      <th>2005</th>\n",
       "      <th>2006</th>\n",
       "      <th>2007</th>\n",
       "      <th>2008</th>\n",
       "      <th>2009</th>\n",
       "      <th>2010</th>\n",
       "      <th>2011</th>\n",
       "      <th>2012</th>\n",
       "      <th>2013</th>\n",
       "      <th>2014</th>\n",
       "      <th>2015</th>\n",
       "      <th>2016</th>\n",
       "      <th>2017</th>\n",
       "      <th>2018</th>\n",
       "    </tr>\n",
       "  </thead>\n",
       "  <tbody>\n",
       "    <tr>\n",
       "      <th>AKRN</th>\n",
       "      <td>0.0</td>\n",
       "      <td>0.0</td>\n",
       "      <td>0.0</td>\n",
       "      <td>0.0</td>\n",
       "      <td>0.0</td>\n",
       "      <td>0.0</td>\n",
       "      <td>0.1</td>\n",
       "      <td>1.0</td>\n",
       "      <td>5.9</td>\n",
       "      <td>6.0</td>\n",
       "      <td>8.4</td>\n",
       "      <td>13.7</td>\n",
       "      <td>6.2</td>\n",
       "      <td>4.5</td>\n",
       "      <td>4.7</td>\n",
       "      <td>5.5</td>\n",
       "      <td>4.6</td>\n",
       "      <td>4.8</td>\n",
       "      <td>4.7</td>\n",
       "    </tr>\n",
       "    <tr>\n",
       "      <th>APTK</th>\n",
       "      <td>0.0</td>\n",
       "      <td>0.0</td>\n",
       "      <td>0.0</td>\n",
       "      <td>0.0</td>\n",
       "      <td>0.0</td>\n",
       "      <td>0.0</td>\n",
       "      <td>0.1</td>\n",
       "      <td>0.7</td>\n",
       "      <td>0.7</td>\n",
       "      <td>14.9</td>\n",
       "      <td>22.4</td>\n",
       "      <td>7.2</td>\n",
       "      <td>2.9</td>\n",
       "      <td>1.4</td>\n",
       "      <td>0.5</td>\n",
       "      <td>1.4</td>\n",
       "      <td>1.6</td>\n",
       "      <td>1.0</td>\n",
       "      <td>0.4</td>\n",
       "    </tr>\n",
       "    <tr>\n",
       "      <th>CHMK</th>\n",
       "      <td>0.0</td>\n",
       "      <td>0.0</td>\n",
       "      <td>0.0</td>\n",
       "      <td>0.0</td>\n",
       "      <td>0.0</td>\n",
       "      <td>0.0</td>\n",
       "      <td>0.0</td>\n",
       "      <td>0.0</td>\n",
       "      <td>0.0</td>\n",
       "      <td>0.9</td>\n",
       "      <td>6.6</td>\n",
       "      <td>1.2</td>\n",
       "      <td>0.2</td>\n",
       "      <td>0.1</td>\n",
       "      <td>0.1</td>\n",
       "      <td>0.7</td>\n",
       "      <td>0.3</td>\n",
       "      <td>0.3</td>\n",
       "      <td>0.1</td>\n",
       "    </tr>\n",
       "    <tr>\n",
       "      <th>LKOH</th>\n",
       "      <td>22.9</td>\n",
       "      <td>43.3</td>\n",
       "      <td>95.2</td>\n",
       "      <td>191.5</td>\n",
       "      <td>351.5</td>\n",
       "      <td>715.4</td>\n",
       "      <td>1688.1</td>\n",
       "      <td>1391.7</td>\n",
       "      <td>1571.2</td>\n",
       "      <td>991.8</td>\n",
       "      <td>762.8</td>\n",
       "      <td>964.2</td>\n",
       "      <td>691.3</td>\n",
       "      <td>467.4</td>\n",
       "      <td>681.0</td>\n",
       "      <td>711.3</td>\n",
       "      <td>597.8</td>\n",
       "      <td>464.1</td>\n",
       "      <td>868.7</td>\n",
       "    </tr>\n",
       "    <tr>\n",
       "      <th>SBER</th>\n",
       "      <td>6.7</td>\n",
       "      <td>4.5</td>\n",
       "      <td>22.3</td>\n",
       "      <td>21.7</td>\n",
       "      <td>74.9</td>\n",
       "      <td>94.1</td>\n",
       "      <td>409.7</td>\n",
       "      <td>1145.0</td>\n",
       "      <td>1612.6</td>\n",
       "      <td>4915.6</td>\n",
       "      <td>4075.7</td>\n",
       "      <td>5079.8</td>\n",
       "      <td>2970.2</td>\n",
       "      <td>1988.9</td>\n",
       "      <td>2674.0</td>\n",
       "      <td>2292.8</td>\n",
       "      <td>2228.6</td>\n",
       "      <td>2037.1</td>\n",
       "      <td>3507.0</td>\n",
       "    </tr>\n",
       "  </tbody>\n",
       "</table>\n",
       "</div>"
      ],
      "text/latex": [
       "\\scalebox{0.7}{\\small\\tabcolsep=0.11cm\\centering{\\begin{tabular}{lrrrrrrrrrrrrrrrrrrr}\n",
       "\\toprule\n",
       "{} &  2000 &  2001 &  2002 &   2003 &   2004 &   2005 &    2006 &    2007 &    2008 &    2009 &    2010 &    2011 &    2012 &    2013 &    2014 &    2015 &    2016 &    2017 &    2018 \\\\\n",
       "\\midrule\n",
       "AKRN &   0.0 &   0.0 &   0.0 &    0.0 &    0.0 &    0.0 &     0.1 &     1.0 &     5.9 &     6.0 &     8.4 &    13.7 &     6.2 &     4.5 &     4.7 &     5.5 &     4.6 &     4.8 &     4.7 \\\\\n",
       "APTK &   0.0 &   0.0 &   0.0 &    0.0 &    0.0 &    0.0 &     0.1 &     0.7 &     0.7 &    14.9 &    22.4 &     7.2 &     2.9 &     1.4 &     0.5 &     1.4 &     1.6 &     1.0 &     0.4 \\\\\n",
       "CHMK &   0.0 &   0.0 &   0.0 &    0.0 &    0.0 &    0.0 &     0.0 &     0.0 &     0.0 &     0.9 &     6.6 &     1.2 &     0.2 &     0.1 &     0.1 &     0.7 &     0.3 &     0.3 &     0.1 \\\\\n",
       "LKOH &  22.9 &  43.3 &  95.2 &  191.5 &  351.5 &  715.4 &  1688.1 &  1391.7 &  1571.2 &   991.8 &   762.8 &   964.2 &   691.3 &   467.4 &   681.0 &   711.3 &   597.8 &   464.1 &   868.7 \\\\\n",
       "SBER &   6.7 &   4.5 &  22.3 &   21.7 &   74.9 &   94.1 &   409.7 &  1145.0 &  1612.6 &  4915.6 &  4075.7 &  5079.8 &  2970.2 &  1988.9 &  2674.0 &  2292.8 &  2228.6 &  2037.1 &  3507.0 \\\\\n",
       "\\bottomrule\n",
       "\\end{tabular}\n",
       "}}"
      ],
      "text/plain": [
       "      2000  2001  2002   2003   2004   2005    2006    2007    2008    2009  \\\n",
       "AKRN   0.0   0.0   0.0    0.0    0.0    0.0     0.1     1.0     5.9     6.0   \n",
       "APTK   0.0   0.0   0.0    0.0    0.0    0.0     0.1     0.7     0.7    14.9   \n",
       "CHMK   0.0   0.0   0.0    0.0    0.0    0.0     0.0     0.0     0.0     0.9   \n",
       "LKOH  22.9  43.3  95.2  191.5  351.5  715.4  1688.1  1391.7  1571.2   991.8   \n",
       "SBER   6.7   4.5  22.3   21.7   74.9   94.1   409.7  1145.0  1612.6  4915.6   \n",
       "\n",
       "        2010    2011    2012    2013    2014    2015    2016    2017    2018  \n",
       "AKRN     8.4    13.7     6.2     4.5     4.7     5.5     4.6     4.8     4.7  \n",
       "APTK    22.4     7.2     2.9     1.4     0.5     1.4     1.6     1.0     0.4  \n",
       "CHMK     6.6     1.2     0.2     0.1     0.1     0.7     0.3     0.3     0.1  \n",
       "LKOH   762.8   964.2   691.3   467.4   681.0   711.3   597.8   464.1   868.7  \n",
       "SBER  4075.7  5079.8  2970.2  1988.9  2674.0  2292.8  2228.6  2037.1  3507.0  "
      ]
     },
     "execution_count": 20,
     "metadata": {},
     "output_type": "execute_result"
    }
   ],
   "source": [
    "dfRVols = pd.DataFrame(index = tickers)\n",
    "for year in years:\n",
    "    yearRVols = []\n",
    "    for ticker in tickers:\n",
    "        yearTickerRVol = yrvol(year, myDataPath + ticker + '.txt', 1000000000) # расчёт стоимостных объемов торгов\n",
    "        yearRVols.append(round(yearTickerRVol,1)) # округление\n",
    "    dfRVols[str(year)] = yearRVols\n",
    "dfRVols"
   ]
  },
  {
   "cell_type": "code",
   "execution_count": 21,
   "metadata": {},
   "outputs": [],
   "source": [
    "dfRVols.to_csv(thisfname() + \".Объем торгов в миллиардах.csv\", index=False, decimal=',', sep=';', encoding='utf-8-sig')"
   ]
  }
 ],
 "metadata": {
  "kernelspec": {
   "display_name": "Python 3",
   "language": "python",
   "name": "python3"
  },
  "language_info": {
   "codemirror_mode": {
    "name": "ipython",
    "version": 3
   },
   "file_extension": ".py",
   "mimetype": "text/x-python",
   "name": "python",
   "nbconvert_exporter": "python",
   "pygments_lexer": "ipython3",
   "version": "3.7.1"
  }
 },
 "nbformat": 4,
 "nbformat_minor": 2
}
