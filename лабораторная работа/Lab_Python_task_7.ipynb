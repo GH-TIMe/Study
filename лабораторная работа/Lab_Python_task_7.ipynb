{
 "cells": [
  {
   "cell_type": "markdown",
   "metadata": {},
   "source": [
    "## Задание 7\n",
    "Таблица квантилей (уровни: $0,1; 0,2; \\ldots ; 0,9$) распределения эмпирического эксцесса. Эмпирический эксцесс рассчитывается по случайной выборке объема $n = 240 - 5V$ ($V$ — номер варианта), которая извлекается из стандартного нормального распределения $m = 100000$ раз. Кроме того, создайте файл, содержащий 1000 квантилей уровней: $0,0005; 0,0015; 0,0025; \\ldots; 0,9995.$"
   ]
  },
  {
   "cell_type": "code",
   "execution_count": 6,
   "metadata": {},
   "outputs": [],
   "source": [
    "# время выполнения 13.003 s\n",
    "import IPython\n",
    "import os\n",
    "import pandas as pd\n",
    "import matplotlib.pyplot as plt\n",
    "import numpy as np\n",
    "from datetime import datetime\n",
    "import scipy.stats as st\n",
    "from math import floor"
   ]
  },
  {
   "cell_type": "code",
   "execution_count": 7,
   "metadata": {
    "scrolled": true
   },
   "outputs": [
    {
     "data": {
      "application/javascript": [
       "var k = IPython.notebook.kernel;\n",
       "k.execute('this_nb_name_ext = \"' + IPython.notebook.notebook_name + '\"');\n"
      ],
      "text/plain": [
       "<IPython.core.display.Javascript object>"
      ]
     },
     "metadata": {},
     "output_type": "display_data"
    }
   ],
   "source": [
    "%%javascript\n",
    "var k = IPython.notebook.kernel;\n",
    "k.execute('this_nb_name_ext = \"' + IPython.notebook.notebook_name + '\"');"
   ]
  },
  {
   "cell_type": "code",
   "execution_count": 8,
   "metadata": {},
   "outputs": [],
   "source": [
    "# некоторые вспомогательные функии\n",
    "def thisfname(): #Имя этого блокнота\n",
    "    this_notebook_name = os.path.splitext(this_nb_name_ext)[0]\n",
    "    return this_notebook_name\n",
    "\n",
    "# расчитывается квантиль\n",
    "def norm_quantile(newtab, level):\n",
    "    newtab = np.sort(newtab)\n",
    "    if (newtab.shape[0] * level) % 1 != 0:\n",
    "        return newtab[int(floor(newtab.shape[0] * level))]\n",
    "    elif (newtab.shape[0] * level) % 1 == 0:\n",
    "        return (newtab[int(floor(newtab.shape[0] * level)) - 1] + newtab[int(floor(newtab.shape[0] * level))]) / 2\n",
    "    \n",
    "# преобразлвание в latex таблицу\n",
    "def _repr_latex_(self):\n",
    "    return self.to_latex()\n",
    "\n",
    "pd.set_option('display.notebook_repr_html', True)\n",
    "pd.DataFrame._repr_latex_ = _repr_latex_  # monkey patch pandas DataFrame"
   ]
  },
  {
   "cell_type": "code",
   "execution_count": 9,
   "metadata": {
    "scrolled": true
   },
   "outputs": [
    {
     "data": {
      "text/html": [
       "<div>\n",
       "<style scoped>\n",
       "    .dataframe tbody tr th:only-of-type {\n",
       "        vertical-align: middle;\n",
       "    }\n",
       "\n",
       "    .dataframe tbody tr th {\n",
       "        vertical-align: top;\n",
       "    }\n",
       "\n",
       "    .dataframe thead th {\n",
       "        text-align: right;\n",
       "    }\n",
       "</style>\n",
       "<table border=\"1\" class=\"dataframe\">\n",
       "  <thead>\n",
       "    <tr style=\"text-align: right;\">\n",
       "      <th></th>\n",
       "      <th>quan</th>\n",
       "      <th>prob</th>\n",
       "    </tr>\n",
       "  </thead>\n",
       "  <tbody>\n",
       "    <tr>\n",
       "      <th>0</th>\n",
       "      <td>0.1</td>\n",
       "      <td>-0.382</td>\n",
       "    </tr>\n",
       "    <tr>\n",
       "      <th>1</th>\n",
       "      <td>0.2</td>\n",
       "      <td>-0.281</td>\n",
       "    </tr>\n",
       "    <tr>\n",
       "      <th>2</th>\n",
       "      <td>0.3</td>\n",
       "      <td>-0.202</td>\n",
       "    </tr>\n",
       "    <tr>\n",
       "      <th>3</th>\n",
       "      <td>0.4</td>\n",
       "      <td>-0.133</td>\n",
       "    </tr>\n",
       "    <tr>\n",
       "      <th>4</th>\n",
       "      <td>0.5</td>\n",
       "      <td>-0.061</td>\n",
       "    </tr>\n",
       "    <tr>\n",
       "      <th>5</th>\n",
       "      <td>0.6</td>\n",
       "      <td>0.014</td>\n",
       "    </tr>\n",
       "    <tr>\n",
       "      <th>6</th>\n",
       "      <td>0.7</td>\n",
       "      <td>0.101</td>\n",
       "    </tr>\n",
       "    <tr>\n",
       "      <th>7</th>\n",
       "      <td>0.8</td>\n",
       "      <td>0.208</td>\n",
       "    </tr>\n",
       "    <tr>\n",
       "      <th>8</th>\n",
       "      <td>0.9</td>\n",
       "      <td>0.378</td>\n",
       "    </tr>\n",
       "  </tbody>\n",
       "</table>\n",
       "</div>"
      ],
      "text/latex": [
       "\\begin{tabular}{lrr}\n",
       "\\toprule\n",
       "{} &  quan &   prob \\\\\n",
       "\\midrule\n",
       "0 &   0.1 & -0.382 \\\\\n",
       "1 &   0.2 & -0.281 \\\\\n",
       "2 &   0.3 & -0.202 \\\\\n",
       "3 &   0.4 & -0.133 \\\\\n",
       "4 &   0.5 & -0.061 \\\\\n",
       "5 &   0.6 &  0.014 \\\\\n",
       "6 &   0.7 &  0.101 \\\\\n",
       "7 &   0.8 &  0.208 \\\\\n",
       "8 &   0.9 &  0.378 \\\\\n",
       "\\bottomrule\n",
       "\\end{tabular}\n"
      ],
      "text/plain": [
       "   quan   prob\n",
       "0   0.1 -0.382\n",
       "1   0.2 -0.281\n",
       "2   0.3 -0.202\n",
       "3   0.4 -0.133\n",
       "4   0.5 -0.061\n",
       "5   0.6  0.014\n",
       "6   0.7  0.101\n",
       "7   0.8  0.208\n",
       "8   0.9  0.378"
      ]
     },
     "execution_count": 9,
     "metadata": {},
     "output_type": "execute_result"
    }
   ],
   "source": [
    "V = 1 # вариант\n",
    "n = 240 - 5*V # 235\n",
    "levels = np.arange(0.1, 1, 0.1) # уровни квантилей\n",
    "m = 100000 # объём\n",
    "Levels = np.arange(0.0005, 1, 0.001) # уровни квантилей\n",
    "y = st.norm.pdf([-1, 1], 0, 1) # нормальное распределение\n",
    "zero = [0]*m\n",
    "for i in range(m):\n",
    "    zero[i] = st.kurtosis(np.random.normal(0, 1, n), fisher=True) # выбока из нормального распределения и подсчёт эксцесса\n",
    "ewal = pd.DataFrame() # таблица распределения относительных частот\n",
    "ewal['val'] = zero\n",
    "ewal['prob'] = 1/m # вероятности\n",
    "ewal['val'] = np.sort(ewal['val']) #сортировка\n",
    "tab_Quantile = []\n",
    "for i in range(len(Levels)): # Вектор 1000 квантилей по выборке объема n=235\n",
    "    tab_Quantile.append(round(norm_quantile(ewal['val'], Levels[i]), 3)) # таблица квантилей Levels\n",
    "tab_Quantile = pd.DataFrame(tab_Quantile)\n",
    "tab_quantile = []\n",
    "for k in range(len(levels)): # Табл 9 квантилей по выборке объема n=235\n",
    "    tab_quantile.append(round(norm_quantile(ewal['val'], levels[k]), 3))\n",
    "final = pd.DataFrame()\n",
    "final['quan'] = levels\n",
    "final['prob'] = tab_quantile\n",
    "final"
   ]
  },
  {
   "cell_type": "code",
   "execution_count": 10,
   "metadata": {
    "scrolled": true
   },
   "outputs": [],
   "source": [
    "tab_Quantile.to_csv(thisfname() + \".Вектор 1000 квантилей по выборке объема n=235.csv\", index=False, decimal=',', sep=';', encoding='utf-8-sig')\n",
    "final.to_csv(thisfname() + \".Табл 9 квантилей по выборке объема n=235.csv\", index=False, decimal=',', sep=';', encoding='utf-8-sig')"
   ]
  }
 ],
 "metadata": {
  "kernelspec": {
   "display_name": "Python 3",
   "language": "python",
   "name": "python3"
  },
  "language_info": {
   "codemirror_mode": {
    "name": "ipython",
    "version": 3
   },
   "file_extension": ".py",
   "mimetype": "text/x-python",
   "name": "python",
   "nbconvert_exporter": "python",
   "pygments_lexer": "ipython3",
   "version": "3.7.1"
  }
 },
 "nbformat": 4,
 "nbformat_minor": 2
}
