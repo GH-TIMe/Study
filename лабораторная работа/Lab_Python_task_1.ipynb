{
 "cells": [
  {
   "cell_type": "markdown",
   "metadata": {},
   "source": [
    "# Задание 1\n",
    "\n",
    "Таблица числа торговых дней по компаниям варианта для каждого календарного года за весь период (каждому календарному году соответствует отдельная колонка)."
   ]
  },
  {
   "cell_type": "code",
   "execution_count": 16,
   "metadata": {},
   "outputs": [],
   "source": [
    "# время выполнения 4.1083 s\n",
    "from IPython.display import Image\n",
    "import os\n",
    "import pandas as pd\n",
    "from datetime import datetime\n",
    "import seaborn as sns"
   ]
  },
  {
   "cell_type": "code",
   "execution_count": 17,
   "metadata": {},
   "outputs": [
    {
     "data": {
      "application/javascript": [
       "var k = IPython.notebook.kernel;\n",
       "k.execute('this_nb_name_ext = \"' + IPython.notebook.notebook_name + '\"');\n"
      ],
      "text/plain": [
       "<IPython.core.display.Javascript object>"
      ]
     },
     "metadata": {},
     "output_type": "display_data"
    }
   ],
   "source": [
    "%%javascript\n",
    "var k = IPython.notebook.kernel;\n",
    "k.execute('this_nb_name_ext = \"' + IPython.notebook.notebook_name + '\"');"
   ]
  },
  {
   "cell_type": "code",
   "execution_count": 18,
   "metadata": {},
   "outputs": [],
   "source": [
    "def thisfname(): #Имя этого блокнота\n",
    "    this_notebook_name = os.path.splitext(this_nb_name_ext)[0]\n",
    "    return this_notebook_name"
   ]
  },
  {
   "cell_type": "code",
   "execution_count": 19,
   "metadata": {},
   "outputs": [],
   "source": [
    "def ndays(year,file):\n",
    "    df = pd.read_csv(file, sep = ',' , engine='python') # чтение файла\n",
    "    df['<DATE>'] = pd.to_datetime(df['<DATE>'], format='%Y%m%d')\n",
    "    condition = (df['<DATE>'] >= datetime(year, 1, 1)) & (df['<DATE>'] < datetime(year + 1, 1, 1))\n",
    "    return len(df[condition])\n",
    "\n",
    "# преобразлвание в latex таблицу\n",
    "def _repr_latex_(self):\n",
    "    return r'\\scalebox{0.7}{\\tabcolsep=0.11cm\\centering{%s}}' % self.to_latex()\n",
    "\n",
    "pd.set_option('display.notebook_repr_html', True)\n",
    "pd.DataFrame._repr_latex_ = _repr_latex_  # monkey patch pandas DataFrame"
   ]
  },
  {
   "cell_type": "code",
   "execution_count": 20,
   "metadata": {},
   "outputs": [],
   "source": [
    "tickers = ['AKRN', 'APTK', 'CHMK', 'LKOH', 'SBER'] # Тикеры\n",
    "years = range(2000, 2019)\n",
    "myDataPath = 'C:/Users/timha/OneDrive/Рабочий стол/лаба/'"
   ]
  },
  {
   "cell_type": "code",
   "execution_count": 21,
   "metadata": {
    "scrolled": true
   },
   "outputs": [
    {
     "data": {
      "text/html": [
       "<div>\n",
       "<style scoped>\n",
       "    .dataframe tbody tr th:only-of-type {\n",
       "        vertical-align: middle;\n",
       "    }\n",
       "\n",
       "    .dataframe tbody tr th {\n",
       "        vertical-align: top;\n",
       "    }\n",
       "\n",
       "    .dataframe thead th {\n",
       "        text-align: right;\n",
       "    }\n",
       "</style>\n",
       "<table border=\"1\" class=\"dataframe\">\n",
       "  <thead>\n",
       "    <tr style=\"text-align: right;\">\n",
       "      <th></th>\n",
       "      <th>2000</th>\n",
       "      <th>2001</th>\n",
       "      <th>2002</th>\n",
       "      <th>2003</th>\n",
       "      <th>2004</th>\n",
       "      <th>2005</th>\n",
       "      <th>2006</th>\n",
       "      <th>2007</th>\n",
       "      <th>2008</th>\n",
       "      <th>2009</th>\n",
       "      <th>2010</th>\n",
       "      <th>2011</th>\n",
       "      <th>2012</th>\n",
       "      <th>2013</th>\n",
       "      <th>2014</th>\n",
       "      <th>2015</th>\n",
       "      <th>2016</th>\n",
       "      <th>2017</th>\n",
       "      <th>2018</th>\n",
       "    </tr>\n",
       "  </thead>\n",
       "  <tbody>\n",
       "    <tr>\n",
       "      <th>AKRN</th>\n",
       "      <td>0</td>\n",
       "      <td>0</td>\n",
       "      <td>0</td>\n",
       "      <td>0</td>\n",
       "      <td>0</td>\n",
       "      <td>0</td>\n",
       "      <td>50</td>\n",
       "      <td>248</td>\n",
       "      <td>245</td>\n",
       "      <td>249</td>\n",
       "      <td>248</td>\n",
       "      <td>248</td>\n",
       "      <td>255</td>\n",
       "      <td>250</td>\n",
       "      <td>250</td>\n",
       "      <td>250</td>\n",
       "      <td>252</td>\n",
       "      <td>252</td>\n",
       "      <td>254</td>\n",
       "    </tr>\n",
       "    <tr>\n",
       "      <th>APTK</th>\n",
       "      <td>0</td>\n",
       "      <td>0</td>\n",
       "      <td>0</td>\n",
       "      <td>19</td>\n",
       "      <td>0</td>\n",
       "      <td>1</td>\n",
       "      <td>188</td>\n",
       "      <td>248</td>\n",
       "      <td>245</td>\n",
       "      <td>248</td>\n",
       "      <td>248</td>\n",
       "      <td>248</td>\n",
       "      <td>255</td>\n",
       "      <td>250</td>\n",
       "      <td>250</td>\n",
       "      <td>250</td>\n",
       "      <td>252</td>\n",
       "      <td>252</td>\n",
       "      <td>254</td>\n",
       "    </tr>\n",
       "    <tr>\n",
       "      <th>CHMK</th>\n",
       "      <td>0</td>\n",
       "      <td>0</td>\n",
       "      <td>0</td>\n",
       "      <td>0</td>\n",
       "      <td>0</td>\n",
       "      <td>0</td>\n",
       "      <td>0</td>\n",
       "      <td>0</td>\n",
       "      <td>1</td>\n",
       "      <td>137</td>\n",
       "      <td>248</td>\n",
       "      <td>247</td>\n",
       "      <td>254</td>\n",
       "      <td>242</td>\n",
       "      <td>246</td>\n",
       "      <td>250</td>\n",
       "      <td>252</td>\n",
       "      <td>252</td>\n",
       "      <td>254</td>\n",
       "    </tr>\n",
       "    <tr>\n",
       "      <th>LKOH</th>\n",
       "      <td>249</td>\n",
       "      <td>251</td>\n",
       "      <td>250</td>\n",
       "      <td>249</td>\n",
       "      <td>250</td>\n",
       "      <td>248</td>\n",
       "      <td>248</td>\n",
       "      <td>248</td>\n",
       "      <td>246</td>\n",
       "      <td>249</td>\n",
       "      <td>248</td>\n",
       "      <td>248</td>\n",
       "      <td>255</td>\n",
       "      <td>250</td>\n",
       "      <td>250</td>\n",
       "      <td>250</td>\n",
       "      <td>252</td>\n",
       "      <td>252</td>\n",
       "      <td>254</td>\n",
       "    </tr>\n",
       "    <tr>\n",
       "      <th>SBER</th>\n",
       "      <td>249</td>\n",
       "      <td>251</td>\n",
       "      <td>250</td>\n",
       "      <td>249</td>\n",
       "      <td>250</td>\n",
       "      <td>248</td>\n",
       "      <td>238</td>\n",
       "      <td>246</td>\n",
       "      <td>246</td>\n",
       "      <td>249</td>\n",
       "      <td>248</td>\n",
       "      <td>248</td>\n",
       "      <td>255</td>\n",
       "      <td>250</td>\n",
       "      <td>250</td>\n",
       "      <td>250</td>\n",
       "      <td>252</td>\n",
       "      <td>252</td>\n",
       "      <td>254</td>\n",
       "    </tr>\n",
       "  </tbody>\n",
       "</table>\n",
       "</div>"
      ],
      "text/latex": [
       "\\scalebox{0.7}{\\tabcolsep=0.11cm\\centering{\\begin{tabular}{lrrrrrrrrrrrrrrrrrrr}\n",
       "\\toprule\n",
       "{} &  2000 &  2001 &  2002 &  2003 &  2004 &  2005 &  2006 &  2007 &  2008 &  2009 &  2010 &  2011 &  2012 &  2013 &  2014 &  2015 &  2016 &  2017 &  2018 \\\\\n",
       "\\midrule\n",
       "AKRN &     0 &     0 &     0 &     0 &     0 &     0 &    50 &   248 &   245 &   249 &   248 &   248 &   255 &   250 &   250 &   250 &   252 &   252 &   254 \\\\\n",
       "APTK &     0 &     0 &     0 &    19 &     0 &     1 &   188 &   248 &   245 &   248 &   248 &   248 &   255 &   250 &   250 &   250 &   252 &   252 &   254 \\\\\n",
       "CHMK &     0 &     0 &     0 &     0 &     0 &     0 &     0 &     0 &     1 &   137 &   248 &   247 &   254 &   242 &   246 &   250 &   252 &   252 &   254 \\\\\n",
       "LKOH &   249 &   251 &   250 &   249 &   250 &   248 &   248 &   248 &   246 &   249 &   248 &   248 &   255 &   250 &   250 &   250 &   252 &   252 &   254 \\\\\n",
       "SBER &   249 &   251 &   250 &   249 &   250 &   248 &   238 &   246 &   246 &   249 &   248 &   248 &   255 &   250 &   250 &   250 &   252 &   252 &   254 \\\\\n",
       "\\bottomrule\n",
       "\\end{tabular}\n",
       "}}"
      ],
      "text/plain": [
       "      2000  2001  2002  2003  2004  2005  2006  2007  2008  2009  2010  2011  \\\n",
       "AKRN     0     0     0     0     0     0    50   248   245   249   248   248   \n",
       "APTK     0     0     0    19     0     1   188   248   245   248   248   248   \n",
       "CHMK     0     0     0     0     0     0     0     0     1   137   248   247   \n",
       "LKOH   249   251   250   249   250   248   248   248   246   249   248   248   \n",
       "SBER   249   251   250   249   250   248   238   246   246   249   248   248   \n",
       "\n",
       "      2012  2013  2014  2015  2016  2017  2018  \n",
       "AKRN   255   250   250   250   252   252   254  \n",
       "APTK   255   250   250   250   252   252   254  \n",
       "CHMK   254   242   246   250   252   252   254  \n",
       "LKOH   255   250   250   250   252   252   254  \n",
       "SBER   255   250   250   250   252   252   254  "
      ]
     },
     "execution_count": 21,
     "metadata": {},
     "output_type": "execute_result"
    }
   ],
   "source": [
    "dfNDays = pd.DataFrame(index = tickers)\n",
    "for year in years:\n",
    "    yearDays = []\n",
    "    for ticker in tickers:\n",
    "        yearDays.append(ndays(year, myDataPath + ticker + '.txt'))\n",
    "    dfNDays[str(year)] = yearDays\n",
    "dfNDays"
   ]
  },
  {
   "cell_type": "code",
   "execution_count": 22,
   "metadata": {},
   "outputs": [],
   "source": [
    "dfNDays.to_csv(thisfname() + \".Табл Число ТД.csv\", index=False, decimal=',', sep=';', encoding='utf-8-sig')"
   ]
  }
 ],
 "metadata": {
  "kernelspec": {
   "display_name": "Python 3",
   "language": "python",
   "name": "python3"
  },
  "language_info": {
   "codemirror_mode": {
    "name": "ipython",
    "version": 3
   },
   "file_extension": ".py",
   "mimetype": "text/x-python",
   "name": "python",
   "nbconvert_exporter": "python",
   "pygments_lexer": "ipython3",
   "version": "3.7.1"
  }
 },
 "nbformat": 4,
 "nbformat_minor": 2
}
